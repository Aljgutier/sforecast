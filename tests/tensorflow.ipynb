{
 "cells": [
  {
   "cell_type": "markdown",
   "metadata": {},
   "source": [
    "# Tensorflow Test Notebook"
   ]
  },
  {
   "cell_type": "markdown",
   "metadata": {},
   "source": [
    "* Import tests from the corresponding test_tensorflow.py\n",
    "* Develoop and Debub Tests"
   ]
  },
  {
   "cell_type": "markdown",
   "metadata": {},
   "source": [
    "# Imports"
   ]
  },
  {
   "cell_type": "code",
   "execution_count": 1,
   "metadata": {},
   "outputs": [
    {
     "name": "stderr",
     "output_type": "stream",
     "text": [
      "2024-06-17 21:03:38.643938: I tensorflow/core/platform/cpu_feature_guard.cc:193] This TensorFlow binary is optimized with oneAPI Deep Neural Network Library (oneDNN) to use the following CPU instructions in performance-critical operations:  AVX2 FMA\n",
      "To enable them in other operations, rebuild TensorFlow with the appropriate compiler flags.\n"
     ]
    },
    {
     "name": "stdout",
     "output_type": "stream",
     "text": [
      "sforecast version = 0.5.9\n"
     ]
    }
   ],
   "source": [
    "# sforecast\n",
    "import sforecast as sf\n",
    "print(f'sforecast version = {sf.__version__}')\n",
    "\n",
    "# python - pandas\n",
    "import pandas as pd\n",
    "import numpy as np\n",
    "from datetime import datetime\n",
    "\n",
    "# scikit-learn\n",
    "from sklearn.preprocessing import LabelEncoder\n",
    "\n",
    "# plotting\n",
    "import beautifulplots as bp\n",
    "import matplotlib.pyplot as plt\n",
    "\n",
    "import matplotlib\n",
    "from pandas.plotting import autocorrelation_plot"
   ]
  },
  {
   "cell_type": "markdown",
   "metadata": {},
   "source": [
    "# Univariate"
   ]
  },
  {
   "cell_type": "code",
   "execution_count": 2,
   "metadata": {},
   "outputs": [
    {
     "name": "stdout",
     "output_type": "stream",
     "text": [
      "sforecast version = 0.5.9\n",
      "['le_event_name_1', 'le_event_name_2']\n",
      "le_catvars = ['le_weekday', 'le_event_name_1', 'le_event_name_2']\n",
      "N event_name_1 labels = 30\n",
      "eindim = [8, 32, 5]\n",
      "eoutdim = [3, 5, 2]\n",
      "dfXYtf univariate\n",
      "Ndense = 5\n",
      "Nout = 1\n",
      "Model: \"model\"\n",
      "_________________________________________________________________\n",
      " Layer (type)                Output Shape              Param #   \n",
      "=================================================================\n",
      " input_1 (InputLayer)        [(None, 5)]               0         \n",
      "                                                                 \n",
      " dense (Dense)               (None, 5)                 30        \n",
      "                                                                 \n",
      " dropout (Dropout)           (None, 5)                 0         \n",
      "                                                                 \n",
      " dense_1 (Dense)             (None, 2)                 12        \n",
      "                                                                 \n",
      " dropout_1 (Dropout)         (None, 2)                 0         \n",
      "                                                                 \n",
      " dense_2 (Dense)             (None, 1)                 3         \n",
      "                                                                 \n",
      "=================================================================\n",
      "Total params: 45\n",
      "Trainable params: 45\n",
      "Non-trainable params: 0\n",
      "_________________________________________________________________\n",
      "None\n"
     ]
    },
    {
     "name": "stderr",
     "output_type": "stream",
     "text": [
      "2024-06-17 07:43:21.143010: I tensorflow/core/platform/cpu_feature_guard.cc:193] This TensorFlow binary is optimized with oneAPI Deep Neural Network Library (oneDNN) to use the following CPU instructions in performance-critical operations:  AVX2 FMA\n",
      "To enable them in other operations, rebuild TensorFlow with the appropriate compiler flags.\n"
     ]
    },
    {
     "name": "stdout",
     "output_type": "stream",
     "text": [
      "1/1 [==============================] - 0s 101ms/step\n",
      "1/1 [==============================] - 0s 26ms/step\n",
      "1/1 [==============================] - 0s 21ms/step\n",
      "1/1 [==============================] - 0s 20ms/step\n",
      "1/1 [==============================] - 0s 20ms/step\n",
      "1/1 [==============================] - 0s 20ms/step\n",
      "1/1 [==============================] - 0s 26ms/step\n",
      "1/1 [==============================] - 0s 23ms/step\n",
      "1/1 [==============================] - 0s 22ms/step\n",
      "1/1 [==============================] - 0s 21ms/step\n",
      "\n",
      "metrics = {'unit_sales_CA1_FOODS_030_pred': {'RMSE': 2.2145222637967916, 'MAE': 1.5708752155303956}}\n",
      "\n",
      "df_pred_uv[ypred].tail(10).values=)\n",
      "[4.91389132 5.47851801 6.27242517 6.05090761 6.28148603 6.54749346\n",
      " 6.69882202 7.36835766 7.498137   7.82787514]\n"
     ]
    }
   ],
   "source": [
    "from test_tensorflow import test_univariate\n",
    "\n",
    "df_pred_uv = test_univariate(_assert=True)"
   ]
  },
  {
   "cell_type": "markdown",
   "metadata": {},
   "source": [
    "# Multivariate Exog Endog Categorical"
   ]
  },
  {
   "cell_type": "code",
   "execution_count": 3,
   "metadata": {},
   "outputs": [
    {
     "name": "stdout",
     "output_type": "stream",
     "text": [
      "Ndense = 46\n",
      "Nemb = 3\n",
      "Nout = 7\n",
      "cont_inputs = KerasTensor(type_spec=TensorSpec(shape=(None, 46), dtype=tf.float32, name='input_5'), name='input_5', description=\"created by layer 'input_5'\")\n",
      "cat_inputs_list = [<KerasTensor: shape=(None, 1) dtype=float32 (created by layer 'input_6')>, <KerasTensor: shape=(None, 1) dtype=float32 (created by layer 'input_7')>, <KerasTensor: shape=(None, 1) dtype=float32 (created by layer 'input_8')>]\n",
      "Model: \"model_1\"\n",
      "__________________________________________________________________________________________________\n",
      " Layer (type)                   Output Shape         Param #     Connected to                     \n",
      "==================================================================================================\n",
      " input_6 (InputLayer)           [(None, 1)]          0           []                               \n",
      "                                                                                                  \n",
      " input_7 (InputLayer)           [(None, 1)]          0           []                               \n",
      "                                                                                                  \n",
      " input_8 (InputLayer)           [(None, 1)]          0           []                               \n",
      "                                                                                                  \n",
      " input_5 (InputLayer)           [(None, 46)]         0           []                               \n",
      "                                                                                                  \n",
      " embedding_3 (Embedding)        (None, 1, 3)         24          ['input_6[0][0]']                \n",
      "                                                                                                  \n",
      " embedding_4 (Embedding)        (None, 1, 5)         160         ['input_7[0][0]']                \n",
      "                                                                                                  \n",
      " embedding_5 (Embedding)        (None, 1, 2)         10          ['input_8[0][0]']                \n",
      "                                                                                                  \n",
      " dense_4 (Dense)                (None, 46)           2162        ['input_5[0][0]']                \n",
      "                                                                                                  \n",
      " flatten_3 (Flatten)            (None, 3)            0           ['embedding_3[0][0]']            \n",
      "                                                                                                  \n",
      " flatten_4 (Flatten)            (None, 5)            0           ['embedding_4[0][0]']            \n",
      "                                                                                                  \n",
      " flatten_5 (Flatten)            (None, 2)            0           ['embedding_5[0][0]']            \n",
      "                                                                                                  \n",
      " concatenate_1 (Concatenate)    (None, 56)           0           ['dense_4[0][0]',                \n",
      "                                                                  'flatten_3[0][0]',              \n",
      "                                                                  'flatten_4[0][0]',              \n",
      "                                                                  'flatten_5[0][0]']              \n",
      "                                                                                                  \n",
      " dropout_3 (Dropout)            (None, 56)           0           ['concatenate_1[0][0]']          \n",
      "                                                                                                  \n",
      " dense_5 (Dense)                (None, 56)           3192        ['dropout_3[0][0]']              \n",
      "                                                                                                  \n",
      " dropout_4 (Dropout)            (None, 56)           0           ['dense_5[0][0]']                \n",
      "                                                                                                  \n",
      " dense_6 (Dense)                (None, 28)           1596        ['dropout_4[0][0]']              \n",
      "                                                                                                  \n",
      " dropout_5 (Dropout)            (None, 28)           0           ['dense_6[0][0]']                \n",
      "                                                                                                  \n",
      " dense_7 (Dense)                (None, 7)            203         ['dropout_5[0][0]']              \n",
      "                                                                                                  \n",
      "==================================================================================================\n",
      "Total params: 7,347\n",
      "Trainable params: 7,347\n",
      "Non-trainable params: 0\n",
      "__________________________________________________________________________________________________\n",
      "None\n",
      "1/1 [==============================] - 0s 109ms/step\n",
      "1/1 [==============================] - 0s 24ms/step\n",
      "1/1 [==============================] - 0s 25ms/step\n",
      "1/1 [==============================] - 0s 25ms/step\n",
      "1/1 [==============================] - 0s 23ms/step\n",
      "y = ['unit_sales_CA1_FOODS_030', 'unit_sales_CA1_HOUSEHOLD_416', 'unit_sales_CA1_FOODS_393']\n",
      "unit_sales_CA1_FOODS_030_pred\n",
      "pred_result = [4.367874622344971, 5.917811393737793, 9.480692863464355, 12.232110023498535, 6.7612481117248535]\n",
      "pred_expected = [ 5.98022509  5.47759581 11.11475754 12.32855797  6.84114027]\n",
      "unit_sales_CA1_HOUSEHOLD_416_pred\n",
      "pred_result = [1.3390578031539917, 1.390307903289795, 1.4602528810501099, 1.4808284044265747, 1.3869692087173462]\n",
      "pred_expected = [1.3943553  1.36535299 1.47444928 1.49734759 1.37910318]\n",
      "unit_sales_CA1_FOODS_393_pred\n",
      "pred_result = [3.580090045928955, 4.107239723205566, 6.086670398712158, 5.632004737854004, 6.36304235458374]\n",
      "pred_expected = [3.9302938  5.07874012 6.54496574 5.89960051 5.87364244]\n"
     ]
    }
   ],
   "source": [
    "from test_tensorflow import test_multivariate_exog_endog_emb\n",
    "df_pred = test_multivariate_exog_endog_emb(_assert=True)"
   ]
  },
  {
   "cell_type": "markdown",
   "metadata": {},
   "source": [
    "# TF w Exog Groups to Output"
   ]
  },
  {
   "cell_type": "code",
   "execution_count": 8,
   "metadata": {},
   "outputs": [
    {
     "name": "stdout",
     "output_type": "stream",
     "text": [
      "target variable = ['unit_sales_FOODS_3_030']\n",
      "variable types ...\n",
      "target variable = ['unit_sales_FOODS_3_030']\n",
      "1/1 [==============================] - 0s 111ms/step\n",
      "1/1 [==============================] - 0s 26ms/step\n",
      "1/1 [==============================] - 0s 28ms/step\n",
      "\n",
      "print_expected = [50.5 46.3 34.5]\n",
      "\n",
      "print_result = [57.16020203 41.82385254 33.73420334]\n"
     ]
    }
   ],
   "source": [
    "from test_tensorflow import test_exengroups\n",
    "df_pred = test_exengroups(_assert=True)"
   ]
  },
  {
   "cell_type": "code",
   "execution_count": null,
   "metadata": {},
   "outputs": [],
   "source": []
  }
 ],
 "metadata": {
  "kernelspec": {
   "display_name": "sforecast",
   "language": "python",
   "name": "python3"
  },
  "language_info": {
   "codemirror_mode": {
    "name": "ipython",
    "version": 3
   },
   "file_extension": ".py",
   "mimetype": "text/x-python",
   "name": "python",
   "nbconvert_exporter": "python",
   "pygments_lexer": "ipython3",
   "version": "3.10.14"
  }
 },
 "nbformat": 4,
 "nbformat_minor": 2
}
