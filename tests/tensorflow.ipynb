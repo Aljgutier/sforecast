{
 "cells": [
  {
   "cell_type": "markdown",
   "metadata": {},
   "source": [
    "# Tensorflow Test Notebook"
   ]
  },
  {
   "cell_type": "markdown",
   "metadata": {},
   "source": [
    "* Import tests from the corresponding test_tensorflow.py\n",
    "* Develoop and Debub Tests"
   ]
  },
  {
   "cell_type": "markdown",
   "metadata": {},
   "source": [
    "# Imports"
   ]
  },
  {
   "cell_type": "code",
   "execution_count": 5,
   "metadata": {},
   "outputs": [
    {
     "name": "stdout",
     "output_type": "stream",
     "text": [
      "sforecast version = 0.4.4\n"
     ]
    }
   ],
   "source": [
    "# sforecast\n",
    "import sforecast as sf\n",
    "print(f'sforecast version = {sf.__version__}')\n",
    "\n",
    "# python - pandas\n",
    "import pandas as pd\n",
    "import numpy as np\n",
    "from datetime import datetime\n",
    "\n",
    "# scikit-learn\n",
    "from sklearn.preprocessing import LabelEncoder\n",
    "\n",
    "# plotting\n",
    "import beautifulplots as bp\n",
    "import matplotlib.pyplot as plt\n",
    "\n",
    "import matplotlib\n",
    "from pandas.plotting import autocorrelation_plot"
   ]
  },
  {
   "cell_type": "markdown",
   "metadata": {},
   "source": [
    "# Univariate"
   ]
  },
  {
   "cell_type": "code",
   "execution_count": 6,
   "metadata": {},
   "outputs": [
    {
     "name": "stdout",
     "output_type": "stream",
     "text": [
      "dfXYtf univariate\n",
      "dfXYtf\n"
     ]
    },
    {
     "data": {
      "text/html": [
       "<div>\n",
       "<style scoped>\n",
       "    .dataframe tbody tr th:only-of-type {\n",
       "        vertical-align: middle;\n",
       "    }\n",
       "\n",
       "    .dataframe tbody tr th {\n",
       "        vertical-align: top;\n",
       "    }\n",
       "\n",
       "    .dataframe thead th {\n",
       "        text-align: right;\n",
       "    }\n",
       "</style>\n",
       "<table border=\"1\" class=\"dataframe\">\n",
       "  <thead>\n",
       "    <tr style=\"text-align: right;\">\n",
       "      <th></th>\n",
       "      <th>unit_sales_CA1_FOODS_030</th>\n",
       "    </tr>\n",
       "    <tr>\n",
       "      <th>date</th>\n",
       "      <th></th>\n",
       "    </tr>\n",
       "  </thead>\n",
       "  <tbody>\n",
       "    <tr>\n",
       "      <th>2016-05-18</th>\n",
       "      <td>7.0</td>\n",
       "    </tr>\n",
       "    <tr>\n",
       "      <th>2016-05-19</th>\n",
       "      <td>11.0</td>\n",
       "    </tr>\n",
       "    <tr>\n",
       "      <th>2016-05-20</th>\n",
       "      <td>9.0</td>\n",
       "    </tr>\n",
       "    <tr>\n",
       "      <th>2016-05-21</th>\n",
       "      <td>9.0</td>\n",
       "    </tr>\n",
       "    <tr>\n",
       "      <th>2016-05-22</th>\n",
       "      <td>8.0</td>\n",
       "    </tr>\n",
       "  </tbody>\n",
       "</table>\n",
       "</div>"
      ],
      "text/plain": [
       "            unit_sales_CA1_FOODS_030\n",
       "date                                \n",
       "2016-05-18                       7.0\n",
       "2016-05-19                      11.0\n",
       "2016-05-20                       9.0\n",
       "2016-05-21                       9.0\n",
       "2016-05-22                       8.0"
      ]
     },
     "metadata": {},
     "output_type": "display_data"
    },
    {
     "name": "stdout",
     "output_type": "stream",
     "text": [
      "Model: \"model_3\"\n",
      "_________________________________________________________________\n",
      " Layer (type)                Output Shape              Param #   \n",
      "=================================================================\n",
      " input_12 (InputLayer)       [(None, 5)]               0         \n",
      "                                                                 \n",
      " dense_14 (Dense)            (None, 5)                 30        \n",
      "                                                                 \n",
      " dense_15 (Dense)            (None, 20)                120       \n",
      "                                                                 \n",
      " dense_16 (Dense)            (None, 10)                210       \n",
      "                                                                 \n",
      " dense_17 (Dense)            (None, 1)                 11        \n",
      "                                                                 \n",
      "=================================================================\n",
      "Total params: 371\n",
      "Trainable params: 371\n",
      "Non-trainable params: 0\n",
      "_________________________________________________________________\n",
      "None\n",
      "1/1 [==============================] - 0s 64ms/step\n",
      "1/1 [==============================] - 0s 21ms/step\n",
      "1/1 [==============================] - 0s 21ms/step\n",
      "1/1 [==============================] - 0s 24ms/step\n",
      "1/1 [==============================] - 0s 26ms/step\n",
      "1/1 [==============================] - 0s 24ms/step\n",
      "1/1 [==============================] - 0s 48ms/step\n",
      "1/1 [==============================] - 0s 22ms/step\n",
      "1/1 [==============================] - 0s 21ms/step\n",
      "1/1 [==============================] - 0s 20ms/step\n",
      "\n",
      "metrics = {'unit_sales_CA1_FOODS_030_pred': {'RMSE': 2.089165174565685, 'MAE': 1.4659826755523682}}\n"
     ]
    },
    {
     "data": {
      "text/html": [
       "<div>\n",
       "<style scoped>\n",
       "    .dataframe tbody tr th:only-of-type {\n",
       "        vertical-align: middle;\n",
       "    }\n",
       "\n",
       "    .dataframe tbody tr th {\n",
       "        vertical-align: top;\n",
       "    }\n",
       "\n",
       "    .dataframe thead th {\n",
       "        text-align: right;\n",
       "    }\n",
       "</style>\n",
       "<table border=\"1\" class=\"dataframe\">\n",
       "  <thead>\n",
       "    <tr style=\"text-align: right;\">\n",
       "      <th></th>\n",
       "      <th>unit_sales_CA1_FOODS_030</th>\n",
       "      <th>unit_sales_CA1_FOODS_030_train</th>\n",
       "      <th>unit_sales_CA1_FOODS_030_test</th>\n",
       "      <th>unit_sales_CA1_FOODS_030_pred</th>\n",
       "      <th>unit_sales_CA1_FOODS_030_pred_error</th>\n",
       "      <th>unit_sales_CA1_FOODS_030_pred_lower</th>\n",
       "      <th>unit_sales_CA1_FOODS_030_pred_upper</th>\n",
       "    </tr>\n",
       "    <tr>\n",
       "      <th>date</th>\n",
       "      <th></th>\n",
       "      <th></th>\n",
       "      <th></th>\n",
       "      <th></th>\n",
       "      <th></th>\n",
       "      <th></th>\n",
       "      <th></th>\n",
       "    </tr>\n",
       "  </thead>\n",
       "  <tbody>\n",
       "    <tr>\n",
       "      <th>2016-05-18</th>\n",
       "      <td>7.0</td>\n",
       "      <td>NaN</td>\n",
       "      <td>7.0</td>\n",
       "      <td>7.000953</td>\n",
       "      <td>0.000953</td>\n",
       "      <td>2.798745</td>\n",
       "      <td>7.799704</td>\n",
       "    </tr>\n",
       "    <tr>\n",
       "      <th>2016-05-19</th>\n",
       "      <td>11.0</td>\n",
       "      <td>NaN</td>\n",
       "      <td>11.0</td>\n",
       "      <td>6.706315</td>\n",
       "      <td>-4.293685</td>\n",
       "      <td>2.504107</td>\n",
       "      <td>7.505066</td>\n",
       "    </tr>\n",
       "    <tr>\n",
       "      <th>2016-05-20</th>\n",
       "      <td>9.0</td>\n",
       "      <td>NaN</td>\n",
       "      <td>9.0</td>\n",
       "      <td>8.430076</td>\n",
       "      <td>-0.569924</td>\n",
       "      <td>4.227867</td>\n",
       "      <td>9.228827</td>\n",
       "    </tr>\n",
       "    <tr>\n",
       "      <th>2016-05-21</th>\n",
       "      <td>9.0</td>\n",
       "      <td>NaN</td>\n",
       "      <td>9.0</td>\n",
       "      <td>8.498943</td>\n",
       "      <td>-0.501057</td>\n",
       "      <td>4.296735</td>\n",
       "      <td>9.297694</td>\n",
       "    </tr>\n",
       "    <tr>\n",
       "      <th>2016-05-22</th>\n",
       "      <td>8.0</td>\n",
       "      <td>NaN</td>\n",
       "      <td>8.0</td>\n",
       "      <td>8.556507</td>\n",
       "      <td>0.556507</td>\n",
       "      <td>4.354299</td>\n",
       "      <td>9.355258</td>\n",
       "    </tr>\n",
       "  </tbody>\n",
       "</table>\n",
       "</div>"
      ],
      "text/plain": [
       "            unit_sales_CA1_FOODS_030  unit_sales_CA1_FOODS_030_train  \\\n",
       "date                                                                   \n",
       "2016-05-18                       7.0                             NaN   \n",
       "2016-05-19                      11.0                             NaN   \n",
       "2016-05-20                       9.0                             NaN   \n",
       "2016-05-21                       9.0                             NaN   \n",
       "2016-05-22                       8.0                             NaN   \n",
       "\n",
       "            unit_sales_CA1_FOODS_030_test  unit_sales_CA1_FOODS_030_pred  \\\n",
       "date                                                                       \n",
       "2016-05-18                            7.0                       7.000953   \n",
       "2016-05-19                           11.0                       6.706315   \n",
       "2016-05-20                            9.0                       8.430076   \n",
       "2016-05-21                            9.0                       8.498943   \n",
       "2016-05-22                            8.0                       8.556507   \n",
       "\n",
       "            unit_sales_CA1_FOODS_030_pred_error  \\\n",
       "date                                              \n",
       "2016-05-18                             0.000953   \n",
       "2016-05-19                            -4.293685   \n",
       "2016-05-20                            -0.569924   \n",
       "2016-05-21                            -0.501057   \n",
       "2016-05-22                             0.556507   \n",
       "\n",
       "            unit_sales_CA1_FOODS_030_pred_lower  \\\n",
       "date                                              \n",
       "2016-05-18                             2.798745   \n",
       "2016-05-19                             2.504107   \n",
       "2016-05-20                             4.227867   \n",
       "2016-05-21                             4.296735   \n",
       "2016-05-22                             4.354299   \n",
       "\n",
       "            unit_sales_CA1_FOODS_030_pred_upper  \n",
       "date                                             \n",
       "2016-05-18                             7.799704  \n",
       "2016-05-19                             7.505066  \n",
       "2016-05-20                             9.228827  \n",
       "2016-05-21                             9.297694  \n",
       "2016-05-22                             9.355258  "
      ]
     },
     "metadata": {},
     "output_type": "display_data"
    },
    {
     "name": "stdout",
     "output_type": "stream",
     "text": [
      "\n",
      "df_pred_uv[ypred].tail(10).values=)\n",
      "[4.92060709 5.80795574 7.30382442 6.74263191 6.58019304 7.0009532\n",
      " 6.70631504 8.43007565 8.49894333 8.55650711]\n"
     ]
    }
   ],
   "source": [
    "from test_tensorflow import test_univariate\n",
    "\n",
    "df_pred_uv = test_univariate(_assert=True)"
   ]
  },
  {
   "cell_type": "markdown",
   "metadata": {},
   "source": [
    "# Multivariate Exog Endog"
   ]
  },
  {
   "cell_type": "code",
   "execution_count": 7,
   "metadata": {},
   "outputs": [
    {
     "name": "stdout",
     "output_type": "stream",
     "text": [
      "Ndense = 46\n",
      "Nemb = 3\n",
      "Nout = 7\n",
      "1/1 [==============================] - 0s 96ms/step\n",
      "1/1 [==============================] - 0s 26ms/step\n",
      "1/1 [==============================] - 0s 25ms/step\n",
      "1/1 [==============================] - 0s 25ms/step\n",
      "1/1 [==============================] - 0s 23ms/step\n",
      "y = ['unit_sales_CA1_FOODS_030', 'unit_sales_CA1_HOUSEHOLD_416', 'unit_sales_CA1_FOODS_393']\n",
      "unit_sales_CA1_FOODS_030_pred\n",
      "pred_result = [4.8162994384765625, 4.693420886993408, 10.194310188293457, 13.371072769165039, 7.520097732543945]\n",
      "pred_expected = [ 5.98022509  5.47759581 11.11475754 12.32855797  6.84114027]\n",
      "unit_sales_CA1_HOUSEHOLD_416_pred\n",
      "pred_result = [1.3323748111724854, 1.327623724937439, 1.375321865081787, 1.4538416862487793, 1.3556524515151978]\n",
      "pred_expected = [1.3943553  1.36535299 1.47444928 1.49734759 1.37910318]\n",
      "unit_sales_CA1_FOODS_393_pred\n",
      "pred_result = [4.4398908615112305, 5.367325305938721, 7.3187336921691895, 6.3541669845581055, 6.287173271179199]\n",
      "pred_expected = [3.9302938  5.07874012 6.54496574 5.89960051 5.87364244]\n"
     ]
    }
   ],
   "source": [
    "from test_tensorflow import test_multivariate_exog_endog\n",
    "df_pred = test_multivariate_exog_endog(_assert=True)"
   ]
  },
  {
   "cell_type": "markdown",
   "metadata": {},
   "source": [
    "# TF w Exog Groups to Output"
   ]
  },
  {
   "cell_type": "code",
   "execution_count": 8,
   "metadata": {},
   "outputs": [
    {
     "name": "stdout",
     "output_type": "stream",
     "text": [
      "target variable = ['unit_sales_FOODS_3_030']\n",
      "variable types ...\n",
      "target variable = ['unit_sales_FOODS_3_030']\n",
      "1/1 [==============================] - 0s 111ms/step\n",
      "1/1 [==============================] - 0s 26ms/step\n",
      "1/1 [==============================] - 0s 28ms/step\n",
      "\n",
      "print_expected = [50.5 46.3 34.5]\n",
      "\n",
      "print_result = [57.16020203 41.82385254 33.73420334]\n"
     ]
    }
   ],
   "source": [
    "from test_tensorflow import test_exengroups\n",
    "df_pred = test_exengroups(_assert=True)"
   ]
  },
  {
   "cell_type": "code",
   "execution_count": null,
   "metadata": {},
   "outputs": [],
   "source": []
  }
 ],
 "metadata": {
  "kernelspec": {
   "display_name": "sforecast",
   "language": "python",
   "name": "python3"
  },
  "language_info": {
   "codemirror_mode": {
    "name": "ipython",
    "version": 3
   },
   "file_extension": ".py",
   "mimetype": "text/x-python",
   "name": "python",
   "nbconvert_exporter": "python",
   "pygments_lexer": "ipython3",
   "version": "3.9.19"
  }
 },
 "nbformat": 4,
 "nbformat_minor": 2
}
